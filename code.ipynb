{
  "cells": [
    {
      "cell_type": "code",
      "execution_count": null,
      "id": "5755b305",
      "metadata": {
        "id": "5755b305"
      },
      "outputs": [],
      "source": [
        "import os\n",
        "path = \"D:\\yelp\""
      ]
    },
    {
      "cell_type": "code",
      "execution_count": null,
      "id": "30320755",
      "metadata": {
        "id": "30320755",
        "outputId": "3b11c681-1aeb-46fa-fd32-b3c41a69ca6a"
      },
      "outputs": [
        {
          "name": "stderr",
          "output_type": "stream",
          "text": [
            "[nltk_data] Downloading package wordnet to\n",
            "[nltk_data]     C:\\Users\\shrey\\AppData\\Roaming\\nltk_data...\n",
            "[nltk_data]   Package wordnet is already up-to-date!\n",
            "[nltk_data] Downloading package stopwords to\n",
            "[nltk_data]     C:\\Users\\shrey\\AppData\\Roaming\\nltk_data...\n",
            "[nltk_data]   Package stopwords is already up-to-date!\n",
            "[nltk_data] Downloading package punkt to\n",
            "[nltk_data]     C:\\Users\\shrey\\AppData\\Roaming\\nltk_data...\n",
            "[nltk_data]   Package punkt is already up-to-date!\n"
          ]
        }
      ],
      "source": [
        "import pandas as pd\n",
        "import numpy as np\n",
        "from sklearn.feature_extraction.text import CountVectorizer\n",
        "from sklearn.model_selection import cross_val_score, KFold, cross_validate\n",
        "from sklearn.metrics import precision_score, make_scorer, recall_score\n",
        "import nltk\n",
        "from sklearn.model_selection import train_test_split\n",
        "import matplotlib.pyplot as plt\n",
        "from nltk.corpus import stopwords\n",
        "nltk.download('wordnet')\n",
        "nltk.download('stopwords')\n",
        "nltk.download('punkt')\n",
        "from nltk.stem import WordNetLemmatizer\n",
        "from nltk.tokenize import word_tokenize\n",
        "from scipy import spatial\n",
        "from sklearn.neighbors import KNeighborsClassifier\n",
        "Stop_words = set(stopwords.words('english')) \n",
        "import re"
      ]
    },
    {
      "cell_type": "code",
      "execution_count": null,
      "id": "d18153e0",
      "metadata": {
        "id": "d18153e0"
      },
      "outputs": [],
      "source": [
        "businesses_path = os.path.join(path, 'yelp_academic_dataset_business.json\\yelp_academic_dataset_business.json')\n",
        "reviews_path = os.path.join(path, 'yelp_academic_dataset_review.json\\yelp_academic_dataset_review.json')\n",
        "users_path = os.path.join(path, 'yelp_academic_dataset_user.json\\yelp_academic_dataset_user.json')\n",
        "\n",
        "businesses = pd.read_json(businesses_path, lines=True, orient='columns', chunksize=1000000)\n",
        "reviews = pd.read_json(reviews_path, lines=True, orient='columns', chunksize=1000000)\n",
        "users = pd.read_json(users_path,lines=True, orient='columns', chunksize=1000000)\n",
        "\n",
        "for bus in businesses:\n",
        "    business_df = bus\n",
        "    break\n",
        "for rev in reviews:\n",
        "    review_df = rev                \n",
        "    break\n",
        "# for user in users:\n",
        "#     user_df = user\n",
        "#     break"
      ]
    },
    {
      "cell_type": "code",
      "execution_count": null,
      "id": "c9242b3c",
      "metadata": {
        "id": "c9242b3c"
      },
      "outputs": [],
      "source": [
        "review_df = review_df[['review_id', 'user_id', 'business_id', 'stars', 'text']]\n",
        "\n",
        "rest_bools = business_df.apply(lambda x: x['attributes'] != None and 'RestaurantsPriceRange2' in x['attributes'], axis = 1)\n",
        "all_rest_ids = set(business_df[rest_bools]['business_id'])\n",
        "\n",
        "review_df = review_df[review_df.apply(lambda x: x['business_id'] in all_rest_ids, axis = 1)]"
      ]
    },
    {
      "cell_type": "code",
      "execution_count": null,
      "id": "70832284",
      "metadata": {
        "id": "70832284"
      },
      "outputs": [],
      "source": [
        "user_to_review = {} # userID : all reviews by user\n",
        "business_to_user = {} # businessID : all reviewerIDs that left a review for that business\n",
        "user_feature = {}"
      ]
    },
    {
      "cell_type": "code",
      "execution_count": null,
      "id": "3b20dcab",
      "metadata": {
        "id": "3b20dcab"
      },
      "outputs": [],
      "source": [
        "def remove_stop_words(text):\n",
        "    res = re.sub(r'[^\\w\\s]', ' ', text)\n",
        "    word_tokens = word_tokenize(res)\n",
        "    filtered_sentence = [w for w in word_tokens if not w.lower() in Stop_words]\n",
        "    return \" \".join(filtered_sentence)"
      ]
    },
    {
      "cell_type": "code",
      "execution_count": null,
      "id": "6fb10add",
      "metadata": {
        "id": "6fb10add"
      },
      "outputs": [],
      "source": [
        "def setup(review_df):\n",
        "    for index, row in review_df.iterrows():\n",
        "        user = row['user_id']\n",
        "        business = row['business_id']\n",
        "        text = row['text']\n",
        "        text = remove_stop_words(text).lower()\n",
        "        if user not in user_to_review:\n",
        "            user_to_review[user] = []\n",
        "        user_to_review[user].append(text)\n",
        "        if business not in business_to_user:\n",
        "            business_to_user[business] = []\n",
        "        rating = 0\n",
        "        if row['stars'] > 2.5:\n",
        "          rating = 1\n",
        "        business_to_user[business].append((user,rating))\n",
        "\n",
        "def k_nearest_neighbours(X, y, k):\n",
        "    neigh = KNeighborsClassifier(n_neighbors=k,metric=spatial.distance.cosine)\n",
        "    #print(\"Shape X : \", len(X))\n",
        "    #print(len(X[0]), len(X[1]) )\n",
        "    # print(np.array(X).shape)\n",
        "    neigh.fit(X, y)\n",
        "    return neigh\n",
        "\n",
        "def test_review(review, k):\n",
        "    X, y, x_test = get_features(review['business_id'], review['user_id'])\n",
        "    model = k_nearest_neighbours(X,y,k)\n",
        "\n",
        "    pred = model.predict([x_test])\n",
        "    rating = 0\n",
        "    if review['stars']>2.5:\n",
        "      rating = 1\n",
        "    if pred == rating:\n",
        "      return 1\n",
        "    else:\n",
        "      return 0\n",
        "\n",
        "def get_features(business_id, test_user_id): # returns X, y, X_test vectorized\n",
        "    X = []\n",
        "    y = []\n",
        "    all_reviewers_id = business_to_user[business_id]\n",
        "    for user_id, user_rating in all_reviewers_id:\n",
        "        X.append(user_to_review[user_id])\n",
        "        y.append(user_rating)\n",
        "    # print(\"X length is\", len(X))\n",
        "    vectorizer = CountVectorizer(ngram_range = (1,3))   \n",
        "    flat_list = [item for sublist in X for item in sublist]\n",
        "    vectorizer.fit(np.array(flat_list))\n",
        "    #f = lambda x: vectorizer.transform(np.asarray(x))\n",
        "    X_new = []\n",
        "    for x in X:\n",
        "        X_new.append(vectorizer.transform(x).toarray()[0])\n",
        "\n",
        "    return X_new, y, vectorizer.transform([user_to_review[test_user_id][0]]).toarray()[0]\n"
      ]
    },
    {
      "cell_type": "code",
      "execution_count": null,
      "id": "5a138136",
      "metadata": {
        "id": "5a138136"
      },
      "outputs": [],
      "source": [
        "def split():\n",
        "    X_train, X_test, _, __ = train_test_split(review_df, len(review_df)*[0], test_size=0.7, random_state=42, shuffle = True)\n",
        "    return X_train, X_test[:1000]"
      ]
    },
    {
      "cell_type": "code",
      "execution_count": null,
      "id": "40571eae",
      "metadata": {
        "id": "40571eae"
      },
      "outputs": [],
      "source": [
        "def main():\n",
        "    print(\"Review/n\")\n",
        "    X_train, X_test = split()\n",
        "    print(len(X_train), len(X_test))\n",
        "    setup(X_train)\n",
        "    print(\"Set up complete, testing\")\n",
        "    accuracy = []\n",
        "    corrects = []\n",
        "    totals = []\n",
        "    hyper_K = [3,7,13,25,51]\n",
        "    for k in hyper_K:\n",
        "        correct = 0\n",
        "        total = 0\n",
        "        for review in X_test.iterrows():\n",
        "            # print(\"Review = \", review[1])\n",
        "            # print(\"Review = \", review.shape)\n",
        "            if review[1]['user_id'] in user_to_review and review[1]['business_id'] in business_to_user and len(business_to_user[review[1]['business_id']]) >= k:\n",
        "                correct = correct + test_review(review[1],k)\n",
        "                total = total + 1\n",
        "                if total%50 == 0:\n",
        "                    print(\"Tested \", total)\n",
        "        print(correct/total)\n",
        "        accuracy.append(correct/total)\n",
        "        corrects.append(correct)\n",
        "        totals.append(total)\n",
        "    print(\"Accuracy\")\n",
        "    print(accuracy)\n",
        "    print(\"Correct\")\n",
        "    print(corrects)\n",
        "    print(\"Totals\")\n",
        "    print(totals)"
      ]
    },
    {
      "cell_type": "code",
      "execution_count": null,
      "id": "e3df6a3d",
      "metadata": {
        "id": "e3df6a3d",
        "outputId": "354809bf-7499-4e4d-d9b3-0f75fc48a2c0"
      },
      "outputs": [
        {
          "name": "stdout",
          "output_type": "stream",
          "text": [
            "Review/n\n",
            "249273 1000\n",
            "Set up complete, testing\n",
            "Tested  50\n",
            "Tested  100\n",
            "Tested  150\n",
            "Tested  200\n"
          ]
        },
        {
          "ename": "MemoryError",
          "evalue": "Unable to allocate 9.17 MiB for an array with shape (4, 300495) and data type int64",
          "output_type": "error",
          "traceback": [
            "\u001b[1;31m---------------------------------------------------------------------------\u001b[0m",
            "\u001b[1;31mMemoryError\u001b[0m                               Traceback (most recent call last)",
            "\u001b[1;32m~\\AppData\\Local\\Temp/ipykernel_17284/217905245.py\u001b[0m in \u001b[0;36m<module>\u001b[1;34m\u001b[0m\n\u001b[0;32m      1\u001b[0m \u001b[1;32mif\u001b[0m \u001b[0m__name__\u001b[0m \u001b[1;33m==\u001b[0m \u001b[1;34m'__main__'\u001b[0m\u001b[1;33m:\u001b[0m\u001b[1;33m\u001b[0m\u001b[1;33m\u001b[0m\u001b[0m\n\u001b[1;32m----> 2\u001b[1;33m     \u001b[0mmain\u001b[0m\u001b[1;33m(\u001b[0m\u001b[1;33m)\u001b[0m\u001b[1;33m\u001b[0m\u001b[1;33m\u001b[0m\u001b[0m\n\u001b[0m",
            "\u001b[1;32m~\\AppData\\Local\\Temp/ipykernel_17284/1209153910.py\u001b[0m in \u001b[0;36mmain\u001b[1;34m()\u001b[0m\n\u001b[0;32m     16\u001b[0m             \u001b[1;31m# print(\"Review = \", review.shape)\u001b[0m\u001b[1;33m\u001b[0m\u001b[1;33m\u001b[0m\u001b[0m\n\u001b[0;32m     17\u001b[0m             \u001b[1;32mif\u001b[0m \u001b[0mreview\u001b[0m\u001b[1;33m[\u001b[0m\u001b[1;36m1\u001b[0m\u001b[1;33m]\u001b[0m\u001b[1;33m[\u001b[0m\u001b[1;34m'user_id'\u001b[0m\u001b[1;33m]\u001b[0m \u001b[1;32min\u001b[0m \u001b[0muser_to_review\u001b[0m \u001b[1;32mand\u001b[0m \u001b[0mreview\u001b[0m\u001b[1;33m[\u001b[0m\u001b[1;36m1\u001b[0m\u001b[1;33m]\u001b[0m\u001b[1;33m[\u001b[0m\u001b[1;34m'business_id'\u001b[0m\u001b[1;33m]\u001b[0m \u001b[1;32min\u001b[0m \u001b[0mbusiness_to_user\u001b[0m \u001b[1;32mand\u001b[0m \u001b[0mlen\u001b[0m\u001b[1;33m(\u001b[0m\u001b[0mbusiness_to_user\u001b[0m\u001b[1;33m[\u001b[0m\u001b[0mreview\u001b[0m\u001b[1;33m[\u001b[0m\u001b[1;36m1\u001b[0m\u001b[1;33m]\u001b[0m\u001b[1;33m[\u001b[0m\u001b[1;34m'business_id'\u001b[0m\u001b[1;33m]\u001b[0m\u001b[1;33m]\u001b[0m\u001b[1;33m)\u001b[0m \u001b[1;33m>=\u001b[0m \u001b[0mk\u001b[0m\u001b[1;33m:\u001b[0m\u001b[1;33m\u001b[0m\u001b[1;33m\u001b[0m\u001b[0m\n\u001b[1;32m---> 18\u001b[1;33m                 \u001b[0mcorrect\u001b[0m \u001b[1;33m=\u001b[0m \u001b[0mcorrect\u001b[0m \u001b[1;33m+\u001b[0m \u001b[0mtest_review\u001b[0m\u001b[1;33m(\u001b[0m\u001b[0mreview\u001b[0m\u001b[1;33m[\u001b[0m\u001b[1;36m1\u001b[0m\u001b[1;33m]\u001b[0m\u001b[1;33m,\u001b[0m\u001b[0mk\u001b[0m\u001b[1;33m)\u001b[0m\u001b[1;33m\u001b[0m\u001b[1;33m\u001b[0m\u001b[0m\n\u001b[0m\u001b[0;32m     19\u001b[0m                 \u001b[0mtotal\u001b[0m \u001b[1;33m=\u001b[0m \u001b[0mtotal\u001b[0m \u001b[1;33m+\u001b[0m \u001b[1;36m1\u001b[0m\u001b[1;33m\u001b[0m\u001b[1;33m\u001b[0m\u001b[0m\n\u001b[0;32m     20\u001b[0m                 \u001b[1;32mif\u001b[0m \u001b[0mtotal\u001b[0m\u001b[1;33m%\u001b[0m\u001b[1;36m50\u001b[0m \u001b[1;33m==\u001b[0m \u001b[1;36m0\u001b[0m\u001b[1;33m:\u001b[0m\u001b[1;33m\u001b[0m\u001b[1;33m\u001b[0m\u001b[0m\n",
            "\u001b[1;32m~\\AppData\\Local\\Temp/ipykernel_17284/2933236612.py\u001b[0m in \u001b[0;36mtest_review\u001b[1;34m(review, k)\u001b[0m\n\u001b[0;32m     24\u001b[0m \u001b[1;33m\u001b[0m\u001b[0m\n\u001b[0;32m     25\u001b[0m \u001b[1;32mdef\u001b[0m \u001b[0mtest_review\u001b[0m\u001b[1;33m(\u001b[0m\u001b[0mreview\u001b[0m\u001b[1;33m,\u001b[0m \u001b[0mk\u001b[0m\u001b[1;33m)\u001b[0m\u001b[1;33m:\u001b[0m\u001b[1;33m\u001b[0m\u001b[1;33m\u001b[0m\u001b[0m\n\u001b[1;32m---> 26\u001b[1;33m     \u001b[0mX\u001b[0m\u001b[1;33m,\u001b[0m \u001b[0my\u001b[0m\u001b[1;33m,\u001b[0m \u001b[0mx_test\u001b[0m \u001b[1;33m=\u001b[0m \u001b[0mget_features\u001b[0m\u001b[1;33m(\u001b[0m\u001b[0mreview\u001b[0m\u001b[1;33m[\u001b[0m\u001b[1;34m'business_id'\u001b[0m\u001b[1;33m]\u001b[0m\u001b[1;33m,\u001b[0m \u001b[0mreview\u001b[0m\u001b[1;33m[\u001b[0m\u001b[1;34m'user_id'\u001b[0m\u001b[1;33m]\u001b[0m\u001b[1;33m)\u001b[0m\u001b[1;33m\u001b[0m\u001b[1;33m\u001b[0m\u001b[0m\n\u001b[0m\u001b[0;32m     27\u001b[0m     \u001b[0mmodel\u001b[0m \u001b[1;33m=\u001b[0m \u001b[0mk_nearest_neighbours\u001b[0m\u001b[1;33m(\u001b[0m\u001b[0mX\u001b[0m\u001b[1;33m,\u001b[0m\u001b[0my\u001b[0m\u001b[1;33m,\u001b[0m\u001b[0mk\u001b[0m\u001b[1;33m)\u001b[0m\u001b[1;33m\u001b[0m\u001b[1;33m\u001b[0m\u001b[0m\n\u001b[0;32m     28\u001b[0m \u001b[1;33m\u001b[0m\u001b[0m\n",
            "\u001b[1;32m~\\AppData\\Local\\Temp/ipykernel_17284/2933236612.py\u001b[0m in \u001b[0;36mget_features\u001b[1;34m(business_id, test_user_id)\u001b[0m\n\u001b[0;32m     50\u001b[0m     \u001b[0mX_new\u001b[0m \u001b[1;33m=\u001b[0m \u001b[1;33m[\u001b[0m\u001b[1;33m]\u001b[0m\u001b[1;33m\u001b[0m\u001b[1;33m\u001b[0m\u001b[0m\n\u001b[0;32m     51\u001b[0m     \u001b[1;32mfor\u001b[0m \u001b[0mx\u001b[0m \u001b[1;32min\u001b[0m \u001b[0mX\u001b[0m\u001b[1;33m:\u001b[0m\u001b[1;33m\u001b[0m\u001b[1;33m\u001b[0m\u001b[0m\n\u001b[1;32m---> 52\u001b[1;33m         \u001b[0mX_new\u001b[0m\u001b[1;33m.\u001b[0m\u001b[0mappend\u001b[0m\u001b[1;33m(\u001b[0m\u001b[0mvectorizer\u001b[0m\u001b[1;33m.\u001b[0m\u001b[0mtransform\u001b[0m\u001b[1;33m(\u001b[0m\u001b[0mx\u001b[0m\u001b[1;33m)\u001b[0m\u001b[1;33m.\u001b[0m\u001b[0mtoarray\u001b[0m\u001b[1;33m(\u001b[0m\u001b[1;33m)\u001b[0m\u001b[1;33m[\u001b[0m\u001b[1;36m0\u001b[0m\u001b[1;33m]\u001b[0m\u001b[1;33m)\u001b[0m\u001b[1;33m\u001b[0m\u001b[1;33m\u001b[0m\u001b[0m\n\u001b[0m\u001b[0;32m     53\u001b[0m \u001b[1;33m\u001b[0m\u001b[0m\n\u001b[0;32m     54\u001b[0m     \u001b[1;32mreturn\u001b[0m \u001b[0mX_new\u001b[0m\u001b[1;33m,\u001b[0m \u001b[0my\u001b[0m\u001b[1;33m,\u001b[0m \u001b[0mvectorizer\u001b[0m\u001b[1;33m.\u001b[0m\u001b[0mtransform\u001b[0m\u001b[1;33m(\u001b[0m\u001b[1;33m[\u001b[0m\u001b[0muser_to_review\u001b[0m\u001b[1;33m[\u001b[0m\u001b[0mtest_user_id\u001b[0m\u001b[1;33m]\u001b[0m\u001b[1;33m[\u001b[0m\u001b[1;36m0\u001b[0m\u001b[1;33m]\u001b[0m\u001b[1;33m]\u001b[0m\u001b[1;33m)\u001b[0m\u001b[1;33m.\u001b[0m\u001b[0mtoarray\u001b[0m\u001b[1;33m(\u001b[0m\u001b[1;33m)\u001b[0m\u001b[1;33m[\u001b[0m\u001b[1;36m0\u001b[0m\u001b[1;33m]\u001b[0m\u001b[1;33m\u001b[0m\u001b[1;33m\u001b[0m\u001b[0m\n",
            "\u001b[1;32m~\\anaconda3\\lib\\site-packages\\scipy\\sparse\\compressed.py\u001b[0m in \u001b[0;36mtoarray\u001b[1;34m(self, order, out)\u001b[0m\n\u001b[0;32m   1029\u001b[0m         \u001b[1;32mif\u001b[0m \u001b[0mout\u001b[0m \u001b[1;32mis\u001b[0m \u001b[1;32mNone\u001b[0m \u001b[1;32mand\u001b[0m \u001b[0morder\u001b[0m \u001b[1;32mis\u001b[0m \u001b[1;32mNone\u001b[0m\u001b[1;33m:\u001b[0m\u001b[1;33m\u001b[0m\u001b[1;33m\u001b[0m\u001b[0m\n\u001b[0;32m   1030\u001b[0m             \u001b[0morder\u001b[0m \u001b[1;33m=\u001b[0m \u001b[0mself\u001b[0m\u001b[1;33m.\u001b[0m\u001b[0m_swap\u001b[0m\u001b[1;33m(\u001b[0m\u001b[1;34m'cf'\u001b[0m\u001b[1;33m)\u001b[0m\u001b[1;33m[\u001b[0m\u001b[1;36m0\u001b[0m\u001b[1;33m]\u001b[0m\u001b[1;33m\u001b[0m\u001b[1;33m\u001b[0m\u001b[0m\n\u001b[1;32m-> 1031\u001b[1;33m         \u001b[0mout\u001b[0m \u001b[1;33m=\u001b[0m \u001b[0mself\u001b[0m\u001b[1;33m.\u001b[0m\u001b[0m_process_toarray_args\u001b[0m\u001b[1;33m(\u001b[0m\u001b[0morder\u001b[0m\u001b[1;33m,\u001b[0m \u001b[0mout\u001b[0m\u001b[1;33m)\u001b[0m\u001b[1;33m\u001b[0m\u001b[1;33m\u001b[0m\u001b[0m\n\u001b[0m\u001b[0;32m   1032\u001b[0m         \u001b[1;32mif\u001b[0m \u001b[1;32mnot\u001b[0m \u001b[1;33m(\u001b[0m\u001b[0mout\u001b[0m\u001b[1;33m.\u001b[0m\u001b[0mflags\u001b[0m\u001b[1;33m.\u001b[0m\u001b[0mc_contiguous\u001b[0m \u001b[1;32mor\u001b[0m \u001b[0mout\u001b[0m\u001b[1;33m.\u001b[0m\u001b[0mflags\u001b[0m\u001b[1;33m.\u001b[0m\u001b[0mf_contiguous\u001b[0m\u001b[1;33m)\u001b[0m\u001b[1;33m:\u001b[0m\u001b[1;33m\u001b[0m\u001b[1;33m\u001b[0m\u001b[0m\n\u001b[0;32m   1033\u001b[0m             \u001b[1;32mraise\u001b[0m \u001b[0mValueError\u001b[0m\u001b[1;33m(\u001b[0m\u001b[1;34m'Output array must be C or F contiguous'\u001b[0m\u001b[1;33m)\u001b[0m\u001b[1;33m\u001b[0m\u001b[1;33m\u001b[0m\u001b[0m\n",
            "\u001b[1;32m~\\anaconda3\\lib\\site-packages\\scipy\\sparse\\base.py\u001b[0m in \u001b[0;36m_process_toarray_args\u001b[1;34m(self, order, out)\u001b[0m\n\u001b[0;32m   1200\u001b[0m             \u001b[1;32mreturn\u001b[0m \u001b[0mout\u001b[0m\u001b[1;33m\u001b[0m\u001b[1;33m\u001b[0m\u001b[0m\n\u001b[0;32m   1201\u001b[0m         \u001b[1;32melse\u001b[0m\u001b[1;33m:\u001b[0m\u001b[1;33m\u001b[0m\u001b[1;33m\u001b[0m\u001b[0m\n\u001b[1;32m-> 1202\u001b[1;33m             \u001b[1;32mreturn\u001b[0m \u001b[0mnp\u001b[0m\u001b[1;33m.\u001b[0m\u001b[0mzeros\u001b[0m\u001b[1;33m(\u001b[0m\u001b[0mself\u001b[0m\u001b[1;33m.\u001b[0m\u001b[0mshape\u001b[0m\u001b[1;33m,\u001b[0m \u001b[0mdtype\u001b[0m\u001b[1;33m=\u001b[0m\u001b[0mself\u001b[0m\u001b[1;33m.\u001b[0m\u001b[0mdtype\u001b[0m\u001b[1;33m,\u001b[0m \u001b[0morder\u001b[0m\u001b[1;33m=\u001b[0m\u001b[0morder\u001b[0m\u001b[1;33m)\u001b[0m\u001b[1;33m\u001b[0m\u001b[1;33m\u001b[0m\u001b[0m\n\u001b[0m\u001b[0;32m   1203\u001b[0m \u001b[1;33m\u001b[0m\u001b[0m\n\u001b[0;32m   1204\u001b[0m \u001b[1;33m\u001b[0m\u001b[0m\n",
            "\u001b[1;31mMemoryError\u001b[0m: Unable to allocate 9.17 MiB for an array with shape (4, 300495) and data type int64"
          ]
        }
      ],
      "source": [
        "if __name__ == '__main__':\n",
        "    main()"
      ]
    },
    {
      "cell_type": "markdown",
      "id": "34d10773",
      "metadata": {
        "id": "34d10773"
      },
      "source": [
        "# Plot for split (0.9, 0.1)"
      ]
    },
    {
      "cell_type": "code",
      "execution_count": null,
      "id": "a42b2f13",
      "metadata": {
        "scrolled": true,
        "id": "a42b2f13",
        "outputId": "d8fd7523-98a2-46dd-df73-a52097ce2b91"
      },
      "outputs": [
        {
          "data": {
            "image/png": "[encoded data removed]",
            "text/plain": [
              "<Figure size 432x288 with 1 Axes>"
            ]
          },
          "metadata": {
            "needs_background": "light"
          },
          "output_type": "display_data"
        }
      ],
      "source": [
        "\n",
        "hyper_k = [3,5,7,13,25,51]\n",
        "accuracy = [0.7425149700598802, 0.7724550898203593, 0.7724550898203593, 0.7804878048780488, 0.7948717948717948, 0.8156028368794326]\n",
        "plt.plot(hyper_k, accuracy)\n",
        "plt.xlabel(\"Value of K\")\n",
        "plt.ylabel(\"Accuracy\")\n",
        "plt.show()"
      ]
    },
    {
      "cell_type": "markdown",
      "id": "911c0e5f",
      "metadata": {
        "id": "911c0e5f"
      },
      "source": [
        "# Plot for split (0.99, 0.01) "
      ]
    },
    {
      "cell_type": "code",
      "execution_count": null,
      "id": "80a63df1",
      "metadata": {
        "id": "80a63df1",
        "outputId": "9466baba-8799-45c0-ba44-73fd93f6b85c"
      },
      "outputs": [
        {
          "data": {
            "image/png": "[encoded data removed]",
            "text/plain": [
              "<Figure size 432x288 with 1 Axes>"
            ]
          },
          "metadata": {
            "needs_background": "light"
          },
          "output_type": "display_data"
        }
      ],
      "source": [
        "hyper_k = [3,5,7,13,25,51]\n",
        "accuracy = [0.79421768707483, 0.8096054888507719, 0.8260869565217391, 0.8333333333333334, 0.826171875, 0.8288288288288288]\n",
        "plt.plot(hyper_k, accuracy)\n",
        "plt.xlabel(\"Value of K\")\n",
        "plt.ylabel(\"Accuracy\")\n",
        "plt.show()"
      ]
    },
    {
      "cell_type": "markdown",
      "id": "eaf95d6c",
      "metadata": {
        "id": "eaf95d6c"
      },
      "source": [
        "# Plot for split (0.3, 1000 pts) for ngram range(2,3)"
      ]
    },
    {
      "cell_type": "code",
      "execution_count": null,
      "id": "43d31913",
      "metadata": {
        "id": "43d31913",
        "outputId": "f8115a69-c0fc-4012-c945-de32ca2883a9"
      },
      "outputs": [
        {
          "data": {
            "image/png": "[encoded data removed]",
            "text/plain": [
              "<Figure size 432x288 with 1 Axes>"
            ]
          },
          "metadata": {
            "needs_background": "light"
          },
          "output_type": "display_data"
        }
      ],
      "source": [
        "hyper_k = [3,7,13,25,51]\n",
        "accuracy = [0.7847769028871391, 0.7988505747126436, 0.8131147540983606, 0.8307086614173228, 0.8702702702702703]\n",
        "plt.plot(hyper_k, accuracy)\n",
        "plt.xlabel(\"Value of K\")\n",
        "plt.ylabel(\"Accuracy\")\n",
        "plt.show()\n",
        "\"\"\"\n",
        "Accuracy\n",
        "[0.7847769028871391, 0.7988505747126436, 0.8131147540983606, 0.8307086614173228, 0.8702702702702703]\n",
        "Correct\n",
        "[299, 278, 248, 211, 161]\n",
        "Totals\n",
        "[381, 348, 305, 254, 185]\"\"\""
      ]
    },
    {
      "cell_type": "code",
      "execution_count": null,
      "id": "d464e6b7",
      "metadata": {
        "id": "d464e6b7"
      },
      "outputs": [],
      "source": [
        ""
      ]
    }
  ],
  "metadata": {
    "kernelspec": {
      "display_name": "Python 3 (ipykernel)",
      "language": "python",
      "name": "python3"
    },
    "language_info": {
      "codemirror_mode": {
        "name": "ipython",
        "version": 3
      },
      "file_extension": ".py",
      "mimetype": "text/x-python",
      "name": "python",
      "nbconvert_exporter": "python",
      "pygments_lexer": "ipython3",
      "version": "3.9.7"
    },
    "colab": {
      "name": "code.ipynb",
      "provenance": []
    }
  },
  "nbformat": 4,
  "nbformat_minor": 5
}